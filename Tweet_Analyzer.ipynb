{
 "cells": [
  {
   "cell_type": "code",
   "execution_count": 10,
   "metadata": {},
   "outputs": [],
   "source": [
    "import string\n",
    "import json\n",
    "import csv\n",
    "import re\n",
    "import networkx as nx\n",
    "import os\n",
    "import pandas as pd\n",
    "import matplotlib.pyplot as plt\n",
    "import seaborn as sns\n",
    "import itertools\n",
    "import collections\n",
    "from nltk import bigrams\n",
    "import tweepy as tw\n",
    "import nltk\n",
    "from nltk.corpus import stopwords\n",
    "import warnings\n",
    "import textblob\n",
    "warnings.filterwarnings(\"ignore\")\n",
    " \n",
    "sns.set(font_scale=1.5)\n",
    "sns.set_style(\"whitegrid\")"
   ]
  },
  {
   "cell_type": "markdown",
   "metadata": {},
   "source": [
    "## Loading the Excel Document"
   ]
  },
  {
   "cell_type": "code",
   "execution_count": 11,
   "metadata": {},
   "outputs": [],
   "source": [
    "tweets = pd.read_csv('EndPeriodShame.csv')"
   ]
  },
  {
   "cell_type": "markdown",
   "metadata": {},
   "source": [
    "## How it looks."
   ]
  },
  {
   "cell_type": "code",
   "execution_count": 12,
   "metadata": {},
   "outputs": [
    {
     "data": {
      "text/html": [
       "<div>\n",
       "<style scoped>\n",
       "    .dataframe tbody tr th:only-of-type {\n",
       "        vertical-align: middle;\n",
       "    }\n",
       "\n",
       "    .dataframe tbody tr th {\n",
       "        vertical-align: top;\n",
       "    }\n",
       "\n",
       "    .dataframe thead th {\n",
       "        text-align: right;\n",
       "    }\n",
       "</style>\n",
       "<table border=\"1\" class=\"dataframe\">\n",
       "  <thead>\n",
       "    <tr style=\"text-align: right;\">\n",
       "      <th></th>\n",
       "      <th>timestamp</th>\n",
       "      <th>tweet_text</th>\n",
       "      <th>username</th>\n",
       "      <th>all_hashtags</th>\n",
       "      <th>followers_count</th>\n",
       "    </tr>\n",
       "  </thead>\n",
       "  <tbody>\n",
       "    <tr>\n",
       "      <th>0</th>\n",
       "      <td>11/26/2019 0:31</td>\n",
       "      <td>b'Tuesday #ootd  Liner #8inch #gruffalo by #da...</td>\n",
       "      <td>b'rebelperiod'</td>\n",
       "      <td>['ootd', '8inch', 'gruffalo', 'daisyandbird', ...</td>\n",
       "      <td>60</td>\n",
       "    </tr>\n",
       "    <tr>\n",
       "      <th>1</th>\n",
       "      <td>11/25/2019 13:44</td>\n",
       "      <td>b'Ladies, during your first menstruation perio...</td>\n",
       "      <td>b'GhettoRadio895'</td>\n",
       "      <td>['endperiodshame', 'Huuwezo', 'Goteana']</td>\n",
       "      <td>139252</td>\n",
       "    </tr>\n",
       "    <tr>\n",
       "      <th>2</th>\n",
       "      <td>11/25/2019 7:09</td>\n",
       "      <td>b'#endperiodshame I was aware but my great fea...</td>\n",
       "      <td>b'Rosebel33871050'</td>\n",
       "      <td>['endperiodshame']</td>\n",
       "      <td>98</td>\n",
       "    </tr>\n",
       "    <tr>\n",
       "      <th>3</th>\n",
       "      <td>11/25/2019 7:00</td>\n",
       "      <td>b'Ladies, during your first menstruation perio...</td>\n",
       "      <td>b'GhettoRadio895'</td>\n",
       "      <td>['endperiodshame', 'Huuwezo', 'Brekko']</td>\n",
       "      <td>139252</td>\n",
       "    </tr>\n",
       "    <tr>\n",
       "      <th>4</th>\n",
       "      <td>11/25/2019 4:45</td>\n",
       "      <td>b'From pads, tampons through to maternity wear...</td>\n",
       "      <td>b'MyDawaApp'</td>\n",
       "      <td>['SiDawaTu', 'MYDAWABlackFriday', 'BlackFriday...</td>\n",
       "      <td>1817</td>\n",
       "    </tr>\n",
       "  </tbody>\n",
       "</table>\n",
       "</div>"
      ],
      "text/plain": [
       "          timestamp                                         tweet_text  \\\n",
       "0   11/26/2019 0:31  b'Tuesday #ootd  Liner #8inch #gruffalo by #da...   \n",
       "1  11/25/2019 13:44  b'Ladies, during your first menstruation perio...   \n",
       "2   11/25/2019 7:09  b'#endperiodshame I was aware but my great fea...   \n",
       "3   11/25/2019 7:00  b'Ladies, during your first menstruation perio...   \n",
       "4   11/25/2019 4:45  b'From pads, tampons through to maternity wear...   \n",
       "\n",
       "             username                                       all_hashtags  \\\n",
       "0      b'rebelperiod'  ['ootd', '8inch', 'gruffalo', 'daisyandbird', ...   \n",
       "1   b'GhettoRadio895'           ['endperiodshame', 'Huuwezo', 'Goteana']   \n",
       "2  b'Rosebel33871050'                                 ['endperiodshame']   \n",
       "3   b'GhettoRadio895'            ['endperiodshame', 'Huuwezo', 'Brekko']   \n",
       "4        b'MyDawaApp'  ['SiDawaTu', 'MYDAWABlackFriday', 'BlackFriday...   \n",
       "\n",
       "   followers_count  \n",
       "0               60  \n",
       "1           139252  \n",
       "2               98  \n",
       "3           139252  \n",
       "4             1817  "
      ]
     },
     "execution_count": 12,
     "metadata": {},
     "output_type": "execute_result"
    }
   ],
   "source": [
    "tweets.head()"
   ]
  },
  {
   "cell_type": "code",
   "execution_count": 13,
   "metadata": {},
   "outputs": [
    {
     "name": "stdout",
     "output_type": "stream",
     "text": [
      "<class 'pandas.core.frame.DataFrame'>\n",
      "RangeIndex: 86 entries, 0 to 85\n",
      "Data columns (total 5 columns):\n",
      "timestamp          86 non-null object\n",
      "tweet_text         86 non-null object\n",
      "username           86 non-null object\n",
      "all_hashtags       86 non-null object\n",
      "followers_count    86 non-null int64\n",
      "dtypes: int64(1), object(4)\n",
      "memory usage: 3.5+ KB\n"
     ]
    }
   ],
   "source": [
    "tweets.info()"
   ]
  },
  {
   "cell_type": "markdown",
   "metadata": {},
   "source": [
    "## Sample Tweets."
   ]
  },
  {
   "cell_type": "code",
   "execution_count": 14,
   "metadata": {},
   "outputs": [
    {
     "name": "stdout",
     "output_type": "stream",
     "text": [
      "b'Tuesday #ootd  Liner #8inch #gruffalo by #daisyandbird  Underwear #grannypanties #thegoldengirls by #harebrained  Dress by #citychic  #rebelliousmenstruation #endperiodshame #bekindtoyourvulva https://t.co/YSBgPMTkUO'\n",
      "b'Ladies, during your first menstruation period, did you have enough and detailed information on how to go about it? #endperiodshame @this_ability_ke #Huuwezo  #Goteana https://t.co/dIXkHqU9QX'\n",
      "b'#endperiodshame I was aware but my great fear what if the pad falls down, https://t.co/kMrB81sriS'\n",
      "b'Ladies, during your first menstruation period, did you have enough and detailed information on how to go about it? #endperiodshame @this_ability_ke  #Huuwezo #Brekko https://t.co/dZVJcuang6'\n",
      "b'From pads, tampons through to maternity wear, Natural Cottons provides choice for women at any stage\\xf0\\x9f\\x91\\xa9\\xf0\\x9f\\x91\\xa7  Shop now for 10% Off the range this Black Friday  https://t.co/SDO5YWTadp  #SiDawaTu #MYDAWABlackFriday #BlackFriday #ThisIsCottons #periodornotshecan #endperiodshame https://t.co/fimD4CCXcv'\n"
     ]
    }
   ],
   "source": [
    "for row in tweets['tweet_text'][:5]:\n",
    "    \n",
    "    print (row)"
   ]
  },
  {
   "cell_type": "markdown",
   "metadata": {},
   "source": [
    "## Removing unwanted texts."
   ]
  },
  {
   "cell_type": "code",
   "execution_count": 15,
   "metadata": {},
   "outputs": [],
   "source": [
    "def remove_url(txt):\n",
    "    \"\"\"Replace URLs found in a text string with nothing \n",
    "    (i.e. it will remove the URL from the string).\n",
    "\n",
    "    Parameters\n",
    "    ----------\n",
    "    txt : string\n",
    "        A text string that you want to parse and remove urls.\n",
    "\n",
    "    Returns\n",
    "    -------\n",
    "    The same txt string with url's removed.\n",
    "    \"\"\"\n",
    "\n",
    "    return \" \".join(re.sub(\"([^0-9A-Za-z \\t])|(\\w+:\\/\\/\\S+)\", \"\", txt).split())"
   ]
  },
  {
   "cell_type": "markdown",
   "metadata": {},
   "source": [
    "## Sample tweets without funny characters."
   ]
  },
  {
   "cell_type": "code",
   "execution_count": 16,
   "metadata": {},
   "outputs": [
    {
     "data": {
      "text/plain": [
       "['Tuesday ootd Liner 8inch gruffalo by daisyandbird Underwear grannypanties thegoldengirls by harebrained Dress by citychic rebelliousmenstruation endperiodshame bekindtoyourvulva',\n",
       " 'Ladies during your first menstruation period did you have enough and detailed information on how to go about it endperiodshame thisabilityke Huuwezo Goteana',\n",
       " 'endperiodshame I was aware but my great fear what if the pad falls down',\n",
       " 'Ladies during your first menstruation period did you have enough and detailed information on how to go about it endperiodshame thisabilityke Huuwezo Brekko',\n",
       " 'From pads tampons through to maternity wear Natural Cottons provides choice for women at any stagexf0x9fx91xa9xf0x9fx91xa7 Shop now for 10 Off the range this Black Friday SiDawaTu MYDAWABlackFriday BlackFriday ThisIsCottons periodornotshecan endperiodshame']"
      ]
     },
     "execution_count": 16,
     "metadata": {},
     "output_type": "execute_result"
    }
   ],
   "source": [
    "all_tweets_no_urls = [remove_url(tweet) for tweet in tweets['tweet_text']]\n",
    "all_tweets_no_urls = list(tweet.replace('b','',1) for tweet in all_tweets_no_urls)\n",
    "all_tweets_no_urls[:5]"
   ]
  },
  {
   "cell_type": "markdown",
   "metadata": {},
   "source": [
    "## Sample words used in the tweet"
   ]
  },
  {
   "cell_type": "code",
   "execution_count": 17,
   "metadata": {},
   "outputs": [
    {
     "data": {
      "text/plain": [
       "[['tuesday',\n",
       "  'ootd',\n",
       "  'liner',\n",
       "  '8inch',\n",
       "  'gruffalo',\n",
       "  'by',\n",
       "  'daisyandbird',\n",
       "  'underwear',\n",
       "  'grannypanties',\n",
       "  'thegoldengirls',\n",
       "  'by',\n",
       "  'harebrained',\n",
       "  'dress',\n",
       "  'by',\n",
       "  'citychic',\n",
       "  'rebelliousmenstruation',\n",
       "  'endperiodshame',\n",
       "  'bekindtoyourvulva'],\n",
       " ['ladies',\n",
       "  'during',\n",
       "  'your',\n",
       "  'first',\n",
       "  'menstruation',\n",
       "  'period',\n",
       "  'did',\n",
       "  'you',\n",
       "  'have',\n",
       "  'enough',\n",
       "  'and',\n",
       "  'detailed',\n",
       "  'information',\n",
       "  'on',\n",
       "  'how',\n",
       "  'to',\n",
       "  'go',\n",
       "  'about',\n",
       "  'it',\n",
       "  'endperiodshame',\n",
       "  'thisabilityke',\n",
       "  'huuwezo',\n",
       "  'goteana']]"
      ]
     },
     "execution_count": 17,
     "metadata": {},
     "output_type": "execute_result"
    }
   ],
   "source": [
    "words_in_tweet = [tweet.lower().split() for tweet in all_tweets_no_urls]\n",
    "words_in_tweet[:2]"
   ]
  },
  {
   "cell_type": "markdown",
   "metadata": {},
   "source": [
    "## How frequent a word appears."
   ]
  },
  {
   "cell_type": "code",
   "execution_count": 18,
   "metadata": {},
   "outputs": [
    {
     "data": {
      "text/plain": [
       "[('endperiodshame', 85),\n",
       " ('the', 64),\n",
       " ('to', 61),\n",
       " ('and', 59),\n",
       " ('by', 42),\n",
       " ('in', 34),\n",
       " ('of', 29),\n",
       " ('a', 28),\n",
       " ('is', 25),\n",
       " ('endperiodpoverty', 24),\n",
       " ('you', 23),\n",
       " ('with', 21),\n",
       " ('on', 20),\n",
       " ('rebelliousmenstruation', 18),\n",
       " ('i', 17),\n",
       " ('women', 17),\n",
       " ('ootd', 16),\n",
       " ('bekindtoyourvulva', 16),\n",
       " ('girls', 16),\n",
       " ('underwear', 15)]"
      ]
     },
     "execution_count": 18,
     "metadata": {},
     "output_type": "execute_result"
    }
   ],
   "source": [
    "# List of all words across tweets\n",
    "all_words_no_urls = list(itertools.chain(*words_in_tweet))\n",
    "\n",
    "# Create counter\n",
    "counts_no_urls = collections.Counter(all_words_no_urls)\n",
    "\n",
    "counts_no_urls.most_common(20)\n"
   ]
  },
  {
   "cell_type": "code",
   "execution_count": 19,
   "metadata": {},
   "outputs": [
    {
     "data": {
      "text/html": [
       "<div>\n",
       "<style scoped>\n",
       "    .dataframe tbody tr th:only-of-type {\n",
       "        vertical-align: middle;\n",
       "    }\n",
       "\n",
       "    .dataframe tbody tr th {\n",
       "        vertical-align: top;\n",
       "    }\n",
       "\n",
       "    .dataframe thead th {\n",
       "        text-align: right;\n",
       "    }\n",
       "</style>\n",
       "<table border=\"1\" class=\"dataframe\">\n",
       "  <thead>\n",
       "    <tr style=\"text-align: right;\">\n",
       "      <th></th>\n",
       "      <th>words</th>\n",
       "      <th>count</th>\n",
       "    </tr>\n",
       "  </thead>\n",
       "  <tbody>\n",
       "    <tr>\n",
       "      <th>0</th>\n",
       "      <td>endperiodshame</td>\n",
       "      <td>85</td>\n",
       "    </tr>\n",
       "    <tr>\n",
       "      <th>1</th>\n",
       "      <td>the</td>\n",
       "      <td>64</td>\n",
       "    </tr>\n",
       "    <tr>\n",
       "      <th>2</th>\n",
       "      <td>to</td>\n",
       "      <td>61</td>\n",
       "    </tr>\n",
       "    <tr>\n",
       "      <th>3</th>\n",
       "      <td>and</td>\n",
       "      <td>59</td>\n",
       "    </tr>\n",
       "    <tr>\n",
       "      <th>4</th>\n",
       "      <td>by</td>\n",
       "      <td>42</td>\n",
       "    </tr>\n",
       "  </tbody>\n",
       "</table>\n",
       "</div>"
      ],
      "text/plain": [
       "            words  count\n",
       "0  endperiodshame     85\n",
       "1             the     64\n",
       "2              to     61\n",
       "3             and     59\n",
       "4              by     42"
      ]
     },
     "execution_count": 19,
     "metadata": {},
     "output_type": "execute_result"
    }
   ],
   "source": [
    "clean_tweets_no_urls = pd.DataFrame(counts_no_urls.most_common(20),\n",
    "                             columns=['words', 'count'])\n",
    "\n",
    "clean_tweets_no_urls.head()"
   ]
  },
  {
   "cell_type": "markdown",
   "metadata": {},
   "source": [
    "# Graphically."
   ]
  },
  {
   "cell_type": "code",
   "execution_count": 20,
   "metadata": {},
   "outputs": [
    {
     "data": {
      "image/png": "[encoded data removed]",
      "text/plain": [
       "<Figure size 576x576 with 1 Axes>"
      ]
     },
     "metadata": {
      "needs_background": "light"
     },
     "output_type": "display_data"
    }
   ],
   "source": [
    "fig, ax = plt.subplots(figsize=(8, 8))\n",
    "\n",
    "# Plot horizontal bar graph\n",
    "clean_tweets_no_urls.sort_values(by='count').plot.barh(x='words',\n",
    "                      y='count',\n",
    "                      ax=ax,\n",
    "                      color=\"purple\")\n",
    "\n",
    "ax.set_title(\"Common Words Found in Tweets (Including All Words)\")\n",
    "\n",
    "plt.show()"
   ]
  },
  {
   "cell_type": "markdown",
   "metadata": {},
   "source": [
    "## Sample common English words."
   ]
  },
  {
   "cell_type": "code",
   "execution_count": 21,
   "metadata": {},
   "outputs": [
    {
     "data": {
      "text/plain": [
       "[\"hasn't\",\n",
       " 's',\n",
       " 'you',\n",
       " 'mightn',\n",
       " 'hasn',\n",
       " \"doesn't\",\n",
       " 'had',\n",
       " 'shouldn',\n",
       " 'he',\n",
       " 'd']"
      ]
     },
     "execution_count": 21,
     "metadata": {},
     "output_type": "execute_result"
    }
   ],
   "source": [
    "stop_words = set(stopwords.words('english'))\n",
    "\n",
    "# View a few words from the set\n",
    "list(stop_words)[0:10]"
   ]
  },
  {
   "cell_type": "markdown",
   "metadata": {},
   "source": [
    "## Removing common English words."
   ]
  },
  {
   "cell_type": "code",
   "execution_count": 22,
   "metadata": {},
   "outputs": [
    {
     "data": {
      "text/plain": [
       "['tuesday',\n",
       " 'ootd',\n",
       " 'liner',\n",
       " '8inch',\n",
       " 'gruffalo',\n",
       " 'daisyandbird',\n",
       " 'underwear',\n",
       " 'grannypanties',\n",
       " 'thegoldengirls',\n",
       " 'harebrained',\n",
       " 'dress',\n",
       " 'citychic',\n",
       " 'rebelliousmenstruation',\n",
       " 'endperiodshame',\n",
       " 'bekindtoyourvulva']"
      ]
     },
     "execution_count": 22,
     "metadata": {},
     "output_type": "execute_result"
    }
   ],
   "source": [
    "# Remove stop words\n",
    "tweets_nsw = [[word for word in tweet_words if not word in stop_words] for tweet_words in words_in_tweet]\n",
    "\n",
    "tweets_nsw[0]"
   ]
  },
  {
   "cell_type": "markdown",
   "metadata": {},
   "source": [
    "## Most common words without common English words."
   ]
  },
  {
   "cell_type": "code",
   "execution_count": 23,
   "metadata": {},
   "outputs": [
    {
     "data": {
      "text/plain": [
       "[('endperiodshame', 85),\n",
       " ('endperiodpoverty', 24),\n",
       " ('rebelliousmenstruation', 18),\n",
       " ('women', 17),\n",
       " ('ootd', 16),\n",
       " ('bekindtoyourvulva', 16),\n",
       " ('girls', 16),\n",
       " ('underwear', 15),\n",
       " ('harebrained', 15),\n",
       " ('liner', 14),\n",
       " ('8inch', 13),\n",
       " ('menstruation', 13),\n",
       " ('period', 13),\n",
       " ('thisabilityke', 12),\n",
       " ('need', 10)]"
      ]
     },
     "execution_count": 23,
     "metadata": {},
     "output_type": "execute_result"
    }
   ],
   "source": [
    "all_words_nsw = list(itertools.chain(*tweets_nsw))\n",
    "\n",
    "counts_nsw = collections.Counter(all_words_nsw)\n",
    "\n",
    "counts_nsw.most_common(15)"
   ]
  },
  {
   "cell_type": "markdown",
   "metadata": {},
   "source": [
    "# Graphically."
   ]
  },
  {
   "cell_type": "code",
   "execution_count": 24,
   "metadata": {},
   "outputs": [
    {
     "data": {
      "image/png": "[encoded data removed]",
      "text/plain": [
       "<Figure size 576x576 with 1 Axes>"
      ]
     },
     "metadata": {
      "needs_background": "light"
     },
     "output_type": "display_data"
    }
   ],
   "source": [
    "clean_tweets_nsw = pd.DataFrame(counts_nsw.most_common(15),\n",
    "                             columns=['words', 'count'])\n",
    "\n",
    "fig, ax = plt.subplots(figsize=(8, 8))\n",
    "\n",
    "# Plot horizontal bar graph\n",
    "clean_tweets_nsw.sort_values(by='count').plot.barh(x='words',\n",
    "                      y='count',\n",
    "                      ax=ax,\n",
    "                      color=\"purple\")\n",
    "\n",
    "ax.set_title(\"Common Words Found in Tweets (Without Stop Words)\")\n",
    "\n",
    "plt.show()"
   ]
  },
  {
   "cell_type": "markdown",
   "metadata": {},
   "source": [
    "# Removing # tags"
   ]
  },
  {
   "cell_type": "code",
   "execution_count": 25,
   "metadata": {},
   "outputs": [
    {
     "name": "stdout",
     "output_type": "stream",
     "text": [
      "['periodequity', 'BlackFriday', 'MyFirstTimeBook', 'bleedingrainbow', 'seekdiscomfort', 'thegoldengirls', 'puppet', 'rabbit', 'endbodyshaming', 'periodemoji', 'MHM', 'menstruationeducation', 'endgirlshame', 'PeriodEmoji', 'octopus', 'womeninsport', '100items', 'stars', 'puremenstruation', 'Endperiodshame', 'swampmonster', 'thpurplepanda', 'endperiodpoverty', 'destash', '7inch', 'andiemadeit', 'twins', 'talkaboutit', 'ThisIsCottons', 'citychic', 'SiDawaTu', 'periodsarenormal', '8inch', 'earntheirwings', 'endperiodshame', 'scarletcloth', 'unstereotype', 'handmadebyhedi', 'bekindtoyourvulva', 'taxfreeperiod', 'ghostbusters', 'krampus', 'gruffalo', 'hpplctamponfairies', 'sewmandakaye', 'EndPeriodStigma', 'EndPeriodshame', 'sunshinebums', 'ravenclaw', 'evildead', 'makeclothmainstream', 'gwyf', 'GirlsWithNoLimits', 'girlpower', 'novelred', 'maliceinwonderland', 'endthiscrisis', 'whale', 'virtouspads', 'mermaid', 'homelessperiodireland', 'thefutureisfemale', 'sexualreproductivehealth', 'EndPeriodShame', 'declutter', 'handmadeinaus', 'Brekko', 'wonderwoman', 'endthestigma', 'endperiodstigma', 'loveluna', 'sale', 'WISE', 'daisyandbird', 'ootd', 'letstalkperiod', 'PeriodEqualityNow', 'endperiodshaming', 'homesteademporium', '180place', 'KOTLoyalsOnly', 'mestruation', 'HomelessPeriodIreland', 'rebelliousmenstruation', 'MYDAWABlackFriday', 'NiajeNiaje', 'redrum', 'reusablemenstrualproducts', 'freetheperiod', 'EndPeriodPoverty', 'MenstruationMatters', 'predator', 'Huuwezo', 'ENDPERIODSHAME', 'MyFirstTime', 'misandrymade', 'grannypanties', 'lowcountryorphanrelief', 'maraudersmap', 'HUUWEZO', 'cthulhu', 'sportslegalke', 'EndTheStigma', 'freeperiod', 'periodornotshecan', 'dress', 'tommyjeans', 'menstruation', 'thosewithheart', 'tyedye', 'makelaundrynotlandfill', 'halloween', 'huuwezo', 'endperiodpovery', 'hellmuff', 'MyFirstTimeStories', 'thursday', 'Goteana', 'PeriodPoverty', 'dignityforall', 'buffy', 'pigsinglasses', 'kittykatcloth', 'reusablecloth', 'jurassicpark', 'SDG6', 'menstrualequity', 'menstruationmatters', 'letstalk', 'deliveries', 'converse', 'harebrained']\n"
     ]
    }
   ],
   "source": [
    "wordscollected = []\n",
    "for row in tweets['all_hashtags']:\n",
    "    mess=row\n",
    "    nopunc=[char for char in mess if char not in string.punctuation]\n",
    "    nopunc=''.join(nopunc)\n",
    "    wordscollected.append(nopunc.split())\n",
    "    collection = []\n",
    "    for roe in wordscollected:\n",
    "        collection.append(list(roe))\n",
    "        collection_words = []\n",
    "    for i in collection:\n",
    "        for j in i:\n",
    "            collection_words.append(j)\n",
    "print(list(set(collection_words)))"
   ]
  },
  {
   "cell_type": "markdown",
   "metadata": {},
   "source": [
    "## Common words without stop words and #tag word"
   ]
  },
  {
   "cell_type": "code",
   "execution_count": 26,
   "metadata": {},
   "outputs": [
    {
     "data": {
      "text/plain": [
       "['tuesday',\n",
       " 'ootd',\n",
       " 'liner',\n",
       " '8inch',\n",
       " 'gruffalo',\n",
       " 'daisyandbird',\n",
       " 'underwear',\n",
       " 'grannypanties',\n",
       " 'thegoldengirls',\n",
       " 'harebrained',\n",
       " 'dress',\n",
       " 'citychic',\n",
       " 'rebelliousmenstruation',\n",
       " 'endperiodshame',\n",
       " 'bekindtoyourvulva']"
      ]
     },
     "execution_count": 26,
     "metadata": {},
     "output_type": "execute_result"
    }
   ],
   "source": [
    "tweets_nsw_nc = [[w for w in word if not w in collection_words]for word in tweets_nsw]\n",
    "tweets_nsw[0]"
   ]
  },
  {
   "cell_type": "code",
   "execution_count": 27,
   "metadata": {},
   "outputs": [
    {
     "data": {
      "text/plain": [
       "['tuesday', 'liner', 'underwear']"
      ]
     },
     "execution_count": 27,
     "metadata": {},
     "output_type": "execute_result"
    }
   ],
   "source": [
    "tweets_nsw_nc[0]"
   ]
  },
  {
   "cell_type": "markdown",
   "metadata": {},
   "source": [
    "# Common words and their frequency."
   ]
  },
  {
   "cell_type": "code",
   "execution_count": 28,
   "metadata": {},
   "outputs": [
    {
     "data": {
      "text/plain": [
       "[('women', 17),\n",
       " ('girls', 16),\n",
       " ('underwear', 15),\n",
       " ('liner', 14),\n",
       " ('period', 13),\n",
       " ('thisabilityke', 12),\n",
       " ('need', 10),\n",
       " ('periods', 10),\n",
       " ('disabilities', 9),\n",
       " ('shame', 9),\n",
       " ('first', 8),\n",
       " ('menstrual', 8),\n",
       " ('stigma', 8),\n",
       " ('kewise254', 8),\n",
       " ('hygiene', 6)]"
      ]
     },
     "execution_count": 28,
     "metadata": {},
     "output_type": "execute_result"
    }
   ],
   "source": [
    "# Flatten list of words in clean tweets\n",
    "all_words_nsw_nc = list(itertools.chain(*tweets_nsw_nc))\n",
    "\n",
    "# Create counter of words in clean tweets\n",
    "counts_nsw_nc = collections.Counter(all_words_nsw_nc)\n",
    "\n",
    "counts_nsw_nc.most_common(15)\n"
   ]
  },
  {
   "cell_type": "code",
   "execution_count": 29,
   "metadata": {},
   "outputs": [
    {
     "data": {
      "text/html": [
       "<div>\n",
       "<style scoped>\n",
       "    .dataframe tbody tr th:only-of-type {\n",
       "        vertical-align: middle;\n",
       "    }\n",
       "\n",
       "    .dataframe tbody tr th {\n",
       "        vertical-align: top;\n",
       "    }\n",
       "\n",
       "    .dataframe thead th {\n",
       "        text-align: right;\n",
       "    }\n",
       "</style>\n",
       "<table border=\"1\" class=\"dataframe\">\n",
       "  <thead>\n",
       "    <tr style=\"text-align: right;\">\n",
       "      <th></th>\n",
       "      <th>words</th>\n",
       "      <th>count</th>\n",
       "    </tr>\n",
       "  </thead>\n",
       "  <tbody>\n",
       "    <tr>\n",
       "      <th>0</th>\n",
       "      <td>women</td>\n",
       "      <td>17</td>\n",
       "    </tr>\n",
       "    <tr>\n",
       "      <th>1</th>\n",
       "      <td>girls</td>\n",
       "      <td>16</td>\n",
       "    </tr>\n",
       "    <tr>\n",
       "      <th>2</th>\n",
       "      <td>underwear</td>\n",
       "      <td>15</td>\n",
       "    </tr>\n",
       "    <tr>\n",
       "      <th>3</th>\n",
       "      <td>liner</td>\n",
       "      <td>14</td>\n",
       "    </tr>\n",
       "    <tr>\n",
       "      <th>4</th>\n",
       "      <td>period</td>\n",
       "      <td>13</td>\n",
       "    </tr>\n",
       "  </tbody>\n",
       "</table>\n",
       "</div>"
      ],
      "text/plain": [
       "       words  count\n",
       "0      women     17\n",
       "1      girls     16\n",
       "2  underwear     15\n",
       "3      liner     14\n",
       "4     period     13"
      ]
     },
     "execution_count": 29,
     "metadata": {},
     "output_type": "execute_result"
    }
   ],
   "source": [
    "clean_tweets_ncw = pd.DataFrame(counts_nsw_nc.most_common(15),\n",
    "                             columns=['words', 'count'])\n",
    "clean_tweets_ncw.head()"
   ]
  },
  {
   "cell_type": "markdown",
   "metadata": {},
   "source": [
    "# Graphically"
   ]
  },
  {
   "cell_type": "code",
   "execution_count": 30,
   "metadata": {},
   "outputs": [
    {
     "data": {
      "image/png": "[encoded data removed]",
      "text/plain": [
       "<Figure size 576x576 with 1 Axes>"
      ]
     },
     "metadata": {
      "needs_background": "light"
     },
     "output_type": "display_data"
    }
   ],
   "source": [
    "fig, ax = plt.subplots(figsize=(8, 8))\n",
    "\n",
    "# Plot horizontal bar graph\n",
    "clean_tweets_ncw.sort_values(by='count').plot.barh(x='words',\n",
    "                      y='count',\n",
    "                      ax=ax,\n",
    "                      color=\"purple\")\n",
    "\n",
    "ax.set_title(\"Common Words Found in Tweets (Without Stop or Collection Words)\")\n",
    "\n",
    "plt.show()"
   ]
  },
  {
   "cell_type": "markdown",
   "metadata": {},
   "source": [
    "## Pair of words that frequently occur together. "
   ]
  },
  {
   "cell_type": "code",
   "execution_count": 31,
   "metadata": {},
   "outputs": [
    {
     "data": {
      "text/plain": [
       "[('tuesday', 'liner'), ('liner', 'underwear')]"
      ]
     },
     "execution_count": 31,
     "metadata": {},
     "output_type": "execute_result"
    }
   ],
   "source": [
    "# Create list of lists containing bigrams in tweets\n",
    "terms_bigram = [list(bigrams(tweet)) for tweet in tweets_nsw_nc]\n",
    "\n",
    "# View bigrams for the first tweet\n",
    "terms_bigram[0]"
   ]
  },
  {
   "cell_type": "code",
   "execution_count": 32,
   "metadata": {},
   "outputs": [
    {
     "data": {
      "text/plain": [
       "[(('liner', 'underwear'), 13),\n",
       " (('underwear', 'shirt'), 5),\n",
       " (('women', 'girls'), 5),\n",
       " (('first', 'period'), 4),\n",
       " (('women', 'disabilities'), 4),\n",
       " (('menstrual', 'hygiene'), 4),\n",
       " (('period', 'enough'), 3),\n",
       " (('enough', 'detailed'), 3),\n",
       " (('detailed', 'information'), 3),\n",
       " (('information', 'go'), 3),\n",
       " (('go', 'thisabilityke'), 3),\n",
       " (('thisabilityke', 'goteana'), 3),\n",
       " (('thisabilityke', 'brekko'), 3),\n",
       " (('need', 'take'), 3),\n",
       " (('school', 'women'), 3),\n",
       " (('women', 'stigma'), 3),\n",
       " (('friday', 'liner'), 3),\n",
       " (('girls', 'disabilities'), 3),\n",
       " (('disabilities', 'experience'), 3),\n",
       " (('tuesday', 'liner'), 2)]"
      ]
     },
     "execution_count": 32,
     "metadata": {},
     "output_type": "execute_result"
    }
   ],
   "source": [
    "# Flatten list of bigrams in clean tweets\n",
    "bigrams = list(itertools.chain(*terms_bigram))\n",
    "\n",
    "# Create counter of words in clean bigrams\n",
    "bigram_counts = collections.Counter(bigrams)\n",
    "\n",
    "bigram_counts.most_common(20)"
   ]
  },
  {
   "cell_type": "code",
   "execution_count": 33,
   "metadata": {},
   "outputs": [
    {
     "data": {
      "text/html": [
       "<div>\n",
       "<style scoped>\n",
       "    .dataframe tbody tr th:only-of-type {\n",
       "        vertical-align: middle;\n",
       "    }\n",
       "\n",
       "    .dataframe tbody tr th {\n",
       "        vertical-align: top;\n",
       "    }\n",
       "\n",
       "    .dataframe thead th {\n",
       "        text-align: right;\n",
       "    }\n",
       "</style>\n",
       "<table border=\"1\" class=\"dataframe\">\n",
       "  <thead>\n",
       "    <tr style=\"text-align: right;\">\n",
       "      <th></th>\n",
       "      <th>bigram</th>\n",
       "      <th>count</th>\n",
       "    </tr>\n",
       "  </thead>\n",
       "  <tbody>\n",
       "    <tr>\n",
       "      <th>0</th>\n",
       "      <td>(liner, underwear)</td>\n",
       "      <td>13</td>\n",
       "    </tr>\n",
       "    <tr>\n",
       "      <th>1</th>\n",
       "      <td>(underwear, shirt)</td>\n",
       "      <td>5</td>\n",
       "    </tr>\n",
       "    <tr>\n",
       "      <th>2</th>\n",
       "      <td>(women, girls)</td>\n",
       "      <td>5</td>\n",
       "    </tr>\n",
       "    <tr>\n",
       "      <th>3</th>\n",
       "      <td>(first, period)</td>\n",
       "      <td>4</td>\n",
       "    </tr>\n",
       "    <tr>\n",
       "      <th>4</th>\n",
       "      <td>(women, disabilities)</td>\n",
       "      <td>4</td>\n",
       "    </tr>\n",
       "    <tr>\n",
       "      <th>5</th>\n",
       "      <td>(menstrual, hygiene)</td>\n",
       "      <td>4</td>\n",
       "    </tr>\n",
       "    <tr>\n",
       "      <th>6</th>\n",
       "      <td>(period, enough)</td>\n",
       "      <td>3</td>\n",
       "    </tr>\n",
       "    <tr>\n",
       "      <th>7</th>\n",
       "      <td>(enough, detailed)</td>\n",
       "      <td>3</td>\n",
       "    </tr>\n",
       "    <tr>\n",
       "      <th>8</th>\n",
       "      <td>(detailed, information)</td>\n",
       "      <td>3</td>\n",
       "    </tr>\n",
       "    <tr>\n",
       "      <th>9</th>\n",
       "      <td>(information, go)</td>\n",
       "      <td>3</td>\n",
       "    </tr>\n",
       "    <tr>\n",
       "      <th>10</th>\n",
       "      <td>(go, thisabilityke)</td>\n",
       "      <td>3</td>\n",
       "    </tr>\n",
       "    <tr>\n",
       "      <th>11</th>\n",
       "      <td>(thisabilityke, goteana)</td>\n",
       "      <td>3</td>\n",
       "    </tr>\n",
       "    <tr>\n",
       "      <th>12</th>\n",
       "      <td>(thisabilityke, brekko)</td>\n",
       "      <td>3</td>\n",
       "    </tr>\n",
       "    <tr>\n",
       "      <th>13</th>\n",
       "      <td>(need, take)</td>\n",
       "      <td>3</td>\n",
       "    </tr>\n",
       "    <tr>\n",
       "      <th>14</th>\n",
       "      <td>(school, women)</td>\n",
       "      <td>3</td>\n",
       "    </tr>\n",
       "    <tr>\n",
       "      <th>15</th>\n",
       "      <td>(women, stigma)</td>\n",
       "      <td>3</td>\n",
       "    </tr>\n",
       "    <tr>\n",
       "      <th>16</th>\n",
       "      <td>(friday, liner)</td>\n",
       "      <td>3</td>\n",
       "    </tr>\n",
       "    <tr>\n",
       "      <th>17</th>\n",
       "      <td>(girls, disabilities)</td>\n",
       "      <td>3</td>\n",
       "    </tr>\n",
       "    <tr>\n",
       "      <th>18</th>\n",
       "      <td>(disabilities, experience)</td>\n",
       "      <td>3</td>\n",
       "    </tr>\n",
       "    <tr>\n",
       "      <th>19</th>\n",
       "      <td>(tuesday, liner)</td>\n",
       "      <td>2</td>\n",
       "    </tr>\n",
       "  </tbody>\n",
       "</table>\n",
       "</div>"
      ],
      "text/plain": [
       "                        bigram  count\n",
       "0           (liner, underwear)     13\n",
       "1           (underwear, shirt)      5\n",
       "2               (women, girls)      5\n",
       "3              (first, period)      4\n",
       "4        (women, disabilities)      4\n",
       "5         (menstrual, hygiene)      4\n",
       "6             (period, enough)      3\n",
       "7           (enough, detailed)      3\n",
       "8      (detailed, information)      3\n",
       "9            (information, go)      3\n",
       "10         (go, thisabilityke)      3\n",
       "11    (thisabilityke, goteana)      3\n",
       "12     (thisabilityke, brekko)      3\n",
       "13                (need, take)      3\n",
       "14             (school, women)      3\n",
       "15             (women, stigma)      3\n",
       "16             (friday, liner)      3\n",
       "17       (girls, disabilities)      3\n",
       "18  (disabilities, experience)      3\n",
       "19            (tuesday, liner)      2"
      ]
     },
     "execution_count": 33,
     "metadata": {},
     "output_type": "execute_result"
    }
   ],
   "source": [
    "bigram_df = pd.DataFrame(bigram_counts.most_common(20),\n",
    "                             columns=['bigram', 'count'])\n",
    "\n",
    "bigram_df"
   ]
  },
  {
   "cell_type": "code",
   "execution_count": 34,
   "metadata": {},
   "outputs": [
    {
     "data": {
      "image/png": "[encoded data removed]",
      "text/plain": [
       "<Figure size 720x576 with 1 Axes>"
      ]
     },
     "metadata": {
      "needs_background": "light"
     },
     "output_type": "display_data"
    }
   ],
   "source": [
    "# Create dictionary of bigrams and their counts\n",
    "d = bigram_df.set_index('bigram').T.to_dict('records')\n",
    "# Create network plot \n",
    "G = nx.Graph()\n",
    "\n",
    "# Create connections between nodes\n",
    "for k, v in d[0].items():\n",
    "    G.add_edge(k[0], k[1], weight=(v * 10))\n",
    "\n",
    "G.add_node(\"china\", weight=100)\n",
    "fig, ax = plt.subplots(figsize=(10, 8))\n",
    "\n",
    "pos = nx.spring_layout(G, k=1)\n",
    "\n",
    "# Plot networks\n",
    "nx.draw_networkx(G, pos,\n",
    "                 font_size=16,\n",
    "                 width=3,\n",
    "                 edge_color='grey',\n",
    "                 node_color='purple',\n",
    "                 with_labels = False,\n",
    "                 ax=ax)\n",
    "\n",
    "# Create offset labels\n",
    "for key, value in pos.items():\n",
    "    x, y = value[0]+.135, value[1]+.045\n",
    "    ax.text(x, y,\n",
    "            s=key,\n",
    "            bbox=dict(facecolor='red', alpha=0.25),\n",
    "            horizontalalignment='center', fontsize=13)\n",
    "    \n",
    "plt.show()"
   ]
  },
  {
   "cell_type": "markdown",
   "metadata": {},
   "source": [
    "# Sentiment Analysis"
   ]
  },
  {
   "cell_type": "code",
   "execution_count": 35,
   "metadata": {},
   "outputs": [],
   "source": [
    "from textblob import TextBlob"
   ]
  },
  {
   "cell_type": "code",
   "execution_count": 36,
   "metadata": {},
   "outputs": [
    {
     "data": {
      "text/plain": [
       "(0.0,\n",
       " TextBlob(\"Tuesday ootd Liner 8inch gruffalo by daisyandbird Underwear grannypanties thegoldengirls by harebrained Dress by citychic rebelliousmenstruation endperiodshame bekindtoyourvulva\"))"
      ]
     },
     "execution_count": 36,
     "metadata": {},
     "output_type": "execute_result"
    }
   ],
   "source": [
    "sentiment_objects = [TextBlob(tweet) for tweet in all_tweets_no_urls]\n",
    "\n",
    "sentiment_objects[0].polarity, sentiment_objects[0]"
   ]
  },
  {
   "cell_type": "code",
   "execution_count": 37,
   "metadata": {},
   "outputs": [
    {
     "data": {
      "text/plain": [
       "[0.0,\n",
       " 'Tuesday ootd Liner 8inch gruffalo by daisyandbird Underwear grannypanties thegoldengirls by harebrained Dress by citychic rebelliousmenstruation endperiodshame bekindtoyourvulva']"
      ]
     },
     "execution_count": 37,
     "metadata": {},
     "output_type": "execute_result"
    }
   ],
   "source": [
    "# Create list of polarity valuesx and tweet text\n",
    "sentiment_values = [[tweet.sentiment.polarity, str(tweet)] for tweet in sentiment_objects]\n",
    "\n",
    "sentiment_values[0]"
   ]
  },
  {
   "cell_type": "markdown",
   "metadata": {},
   "source": [
    "# Attaching the polarity.\n",
    "## Polarity of more than 0 means a positive tweet.\n",
    "## Polarity of less than 0 means a negative tweet."
   ]
  },
  {
   "cell_type": "code",
   "execution_count": 38,
   "metadata": {},
   "outputs": [
    {
     "data": {
      "text/html": [
       "<div>\n",
       "<style scoped>\n",
       "    .dataframe tbody tr th:only-of-type {\n",
       "        vertical-align: middle;\n",
       "    }\n",
       "\n",
       "    .dataframe tbody tr th {\n",
       "        vertical-align: top;\n",
       "    }\n",
       "\n",
       "    .dataframe thead th {\n",
       "        text-align: right;\n",
       "    }\n",
       "</style>\n",
       "<table border=\"1\" class=\"dataframe\">\n",
       "  <thead>\n",
       "    <tr style=\"text-align: right;\">\n",
       "      <th></th>\n",
       "      <th>polarity</th>\n",
       "      <th>tweet</th>\n",
       "    </tr>\n",
       "  </thead>\n",
       "  <tbody>\n",
       "    <tr>\n",
       "      <th>0</th>\n",
       "      <td>0.000000</td>\n",
       "      <td>Tuesday ootd Liner 8inch gruffalo by daisyandb...</td>\n",
       "    </tr>\n",
       "    <tr>\n",
       "      <th>1</th>\n",
       "      <td>0.216667</td>\n",
       "      <td>Ladies during your first menstruation period d...</td>\n",
       "    </tr>\n",
       "    <tr>\n",
       "      <th>2</th>\n",
       "      <td>0.298148</td>\n",
       "      <td>endperiodshame I was aware but my great fear w...</td>\n",
       "    </tr>\n",
       "    <tr>\n",
       "      <th>3</th>\n",
       "      <td>0.216667</td>\n",
       "      <td>Ladies during your first menstruation period d...</td>\n",
       "    </tr>\n",
       "    <tr>\n",
       "      <th>4</th>\n",
       "      <td>-0.033333</td>\n",
       "      <td>From pads tampons through to maternity wear Na...</td>\n",
       "    </tr>\n",
       "    <tr>\n",
       "      <th>5</th>\n",
       "      <td>0.000000</td>\n",
       "      <td>Sunday ootd Liner 7inch by gwyf Underwear blee...</td>\n",
       "    </tr>\n",
       "    <tr>\n",
       "      <th>6</th>\n",
       "      <td>0.000000</td>\n",
       "      <td>Finally got my shower ootd Liner 7inch octopus...</td>\n",
       "    </tr>\n",
       "    <tr>\n",
       "      <th>7</th>\n",
       "      <td>0.000000</td>\n",
       "      <td>Christmas stocking Monday 25th of November the...</td>\n",
       "    </tr>\n",
       "    <tr>\n",
       "      <th>8</th>\n",
       "      <td>0.250000</td>\n",
       "      <td>Find out how these women with disabilities han...</td>\n",
       "    </tr>\n",
       "    <tr>\n",
       "      <th>9</th>\n",
       "      <td>0.100000</td>\n",
       "      <td>Action needs to be taken Me and you need to ta...</td>\n",
       "    </tr>\n",
       "    <tr>\n",
       "      <th>10</th>\n",
       "      <td>0.175000</td>\n",
       "      <td>Ending period poverty and educating girls on m...</td>\n",
       "    </tr>\n",
       "    <tr>\n",
       "      <th>11</th>\n",
       "      <td>0.285714</td>\n",
       "      <td>Its our responsibility to ensure every girl ha...</td>\n",
       "    </tr>\n",
       "    <tr>\n",
       "      <th>12</th>\n",
       "      <td>0.220000</td>\n",
       "      <td>Starting with you and I we need to take action...</td>\n",
       "    </tr>\n",
       "    <tr>\n",
       "      <th>13</th>\n",
       "      <td>0.250000</td>\n",
       "      <td>Find out how these women with disabilities han...</td>\n",
       "    </tr>\n",
       "    <tr>\n",
       "      <th>14</th>\n",
       "      <td>0.800000</td>\n",
       "      <td>Great news Inclusivity and participation shoul...</td>\n",
       "    </tr>\n",
       "    <tr>\n",
       "      <th>15</th>\n",
       "      <td>0.000000</td>\n",
       "      <td>Friday ootd Liner 8inch mermaid whale by misan...</td>\n",
       "    </tr>\n",
       "    <tr>\n",
       "      <th>16</th>\n",
       "      <td>0.000000</td>\n",
       "      <td>xf0x9fx93xb7 rebelliousmenstruation Friday oot...</td>\n",
       "    </tr>\n",
       "    <tr>\n",
       "      <th>17</th>\n",
       "      <td>0.060000</td>\n",
       "      <td>I think billboards like this are amazing in no...</td>\n",
       "    </tr>\n",
       "    <tr>\n",
       "      <th>18</th>\n",
       "      <td>-0.033333</td>\n",
       "      <td>Women with disabilities of all ages have physi...</td>\n",
       "    </tr>\n",
       "    <tr>\n",
       "      <th>19</th>\n",
       "      <td>0.220000</td>\n",
       "      <td>Starting with you and I we need to take action...</td>\n",
       "    </tr>\n",
       "  </tbody>\n",
       "</table>\n",
       "</div>"
      ],
      "text/plain": [
       "    polarity                                              tweet\n",
       "0   0.000000  Tuesday ootd Liner 8inch gruffalo by daisyandb...\n",
       "1   0.216667  Ladies during your first menstruation period d...\n",
       "2   0.298148  endperiodshame I was aware but my great fear w...\n",
       "3   0.216667  Ladies during your first menstruation period d...\n",
       "4  -0.033333  From pads tampons through to maternity wear Na...\n",
       "5   0.000000  Sunday ootd Liner 7inch by gwyf Underwear blee...\n",
       "6   0.000000  Finally got my shower ootd Liner 7inch octopus...\n",
       "7   0.000000  Christmas stocking Monday 25th of November the...\n",
       "8   0.250000  Find out how these women with disabilities han...\n",
       "9   0.100000  Action needs to be taken Me and you need to ta...\n",
       "10  0.175000  Ending period poverty and educating girls on m...\n",
       "11  0.285714  Its our responsibility to ensure every girl ha...\n",
       "12  0.220000  Starting with you and I we need to take action...\n",
       "13  0.250000  Find out how these women with disabilities han...\n",
       "14  0.800000  Great news Inclusivity and participation shoul...\n",
       "15  0.000000  Friday ootd Liner 8inch mermaid whale by misan...\n",
       "16  0.000000  xf0x9fx93xb7 rebelliousmenstruation Friday oot...\n",
       "17  0.060000  I think billboards like this are amazing in no...\n",
       "18 -0.033333  Women with disabilities of all ages have physi...\n",
       "19  0.220000  Starting with you and I we need to take action..."
      ]
     },
     "execution_count": 38,
     "metadata": {},
     "output_type": "execute_result"
    }
   ],
   "source": [
    "# Create dataframe containing the polarity value and tweet text\n",
    "sentiment_df = pd.DataFrame(sentiment_values, columns=[\"polarity\", \"tweet\"])\n",
    "\n",
    "sentiment_df.head(20)"
   ]
  },
  {
   "cell_type": "markdown",
   "metadata": {},
   "source": [
    "# Sample positive tweets."
   ]
  },
  {
   "cell_type": "code",
   "execution_count": 39,
   "metadata": {},
   "outputs": [],
   "source": [
    "positive_sentiment = sentiment_df[(sentiment_df['polarity']> 0.2)]"
   ]
  },
  {
   "cell_type": "code",
   "execution_count": 40,
   "metadata": {},
   "outputs": [
    {
     "name": "stdout",
     "output_type": "stream",
     "text": [
      "Starting with you and I we need to take action by prioritizing Menstrual Hygiene which will be the most important action in keeping girls in school and women out of stigma Endperiodshame endthestigma MPyusufhassan OfficialJMbugua WomenstruateD CRINwire KeWISE254\n",
      "Find out how these women with disabilities handled their first menstruation and what they wish they had known endperiodshame Brekko thisabilityke\n",
      "Great news Inclusivity and participation should be encouraged EndPeriodShame EndPeriodPoverty Imitiaz254 KeWISE254 fawashsmiley\n",
      "Starting with you and I we need to take action by prioritizing Menstrual Hygiene which will be the most important action in keeping girls in school and women out of stigma EndPeriodPoverty Endperiodshame UNICEF USAIDKenya OfficialJMbugua KoinangeJeff MPyusufhassan\n",
      "oyoohabib KeWISE254 Do u know what research looks like before pointing fingers at innocent peopleImitiaz254 ignore him he is needs to look into what he is talking aboutendperiodpoverty endperiodshame\n"
     ]
    }
   ],
   "source": [
    "for row in positive_sentiment['tweet'][5:10]:\n",
    "    print(row)"
   ]
  },
  {
   "cell_type": "markdown",
   "metadata": {},
   "source": [
    "# Sample negative tweets."
   ]
  },
  {
   "cell_type": "code",
   "execution_count": 41,
   "metadata": {},
   "outputs": [],
   "source": [
    "negative_sentiment = sentiment_df[(sentiment_df['polarity']< -0.01)]"
   ]
  },
  {
   "cell_type": "code",
   "execution_count": 42,
   "metadata": {},
   "outputs": [
    {
     "name": "stdout",
     "output_type": "stream",
     "text": [
      "KeWISE254 you mean you guys failed to identify at least two creative minds in from Kenya to execute your ideas EndPeriodShame EndPeriodPoverty\n",
      "Photographer who created images za End Period Shame YOU DID A VERY DISGUSTING TRASHY IMMATURE AMATEUR IMAGES No proper research was done on that idea You shamed the whole Africa KeWISE254 EndPeriodShame EndPeriodPoverty\n",
      "What the Deuce xf0x9fx98x91 xf0x9fx98xb3 endperiodshame Huuwezo thisabilityke OK well at least they used fake blood ama xf0x9fxa4x94xf0x9fx98x90 Theres a guy who asked why they use blue liquid on those Always TV ads RamzZy xf0x9fx98x91xf0x9fx98xac\n",
      "Theres an EndPeriodshame billboard on Transnational Plaza that is quite puzzling I like the message but why is there blood on the girls face What am I missing\n",
      "The new periodemoji is out and I am bloody excited xf0x9fxa9xb8 xf0x9fxa9xb8xf0x9fxa9xb8xf0x9fxa9xb8xf0x9fxa9xb8xf0x9fxa9xb8xf0x9fxa9xb8 Well done to PlanUK and all of those who have been campaigning to EndPeriodShame\n",
      "Shame stigma and misinformation surrounding menstruation are contributing to serious human rights concerns for women and girls KeWISE254 Imitiaz254 EndPeriodShame\n",
      "eleanorgall UniStrathclyde strathfem StrathUnion StrathGender MonicaLennon7 menstruationRN OnTheBaw PeriodPoverty pinkprotest Menstruation something thats natural and a foundation of life shouldnt be held taboo its an involuntary body function that affects half the population We need to break the silence and dispel the unnecessary stigma and shame around periods EndPeriodShame\n"
     ]
    }
   ],
   "source": [
    "for row in negative_sentiment['tweet'][3:10]:\n",
    "    print(row)"
   ]
  },
  {
   "cell_type": "code",
   "execution_count": 43,
   "metadata": {},
   "outputs": [],
   "source": [
    "# How the tweet's polarity is distributed "
   ]
  },
  {
   "cell_type": "code",
   "execution_count": 44,
   "metadata": {},
   "outputs": [
    {
     "data": {
      "image/png": "[encoded data removed]",
      "text/plain": [
       "<Figure size 576x432 with 1 Axes>"
      ]
     },
     "metadata": {
      "needs_background": "light"
     },
     "output_type": "display_data"
    }
   ],
   "source": [
    "fig, ax = plt.subplots(figsize=(8, 6))\n",
    "\n",
    "# Plot histogram of the polarity values\n",
    "sentiment_df.hist(bins=[-1, -0.75, -0.5, -0.25, 0.25, 0.5, 0.75, 1],\n",
    "             ax=ax,\n",
    "             color=\"purple\")\n",
    "\n",
    "plt.title(\"Sentiments from Tweets on Endperiod Shame\")\n",
    "plt.show()"
   ]
  },
  {
   "cell_type": "code",
   "execution_count": 45,
   "metadata": {},
   "outputs": [
    {
     "data": {
      "image/png": "[encoded data removed]",
      "text/plain": [
       "<Figure size 576x432 with 1 Axes>"
      ]
     },
     "metadata": {
      "needs_background": "light"
     },
     "output_type": "display_data"
    }
   ],
   "source": [
    "# Remove polarity values equal to zero\n",
    "sentiment_df = sentiment_df[sentiment_df.polarity != 0]\n",
    "fig, ax = plt.subplots(figsize=(8, 6))\n",
    "\n",
    "# Plot histogram with break at zero\n",
    "sentiment_df.hist(bins=[-1, -0.75, -0.5, -0.25, 0.0, 0.25, 0.5, 0.75, 1],\n",
    "             ax=ax,\n",
    "             color=\"purple\")\n",
    "\n",
    "plt.title(\"Sentiments from Tweets on End Period shame\")\n",
    "plt.show()"
   ]
  },
  {
   "cell_type": "code",
   "execution_count": null,
   "metadata": {},
   "outputs": [],
   "source": []
  }
 ],
 "metadata": {
  "kernelspec": {
   "display_name": "Python 3",
   "language": "python",
   "name": "python3"
  },
  "language_info": {
   "codemirror_mode": {
    "name": "ipython",
    "version": 3
   },
   "file_extension": ".py",
   "mimetype": "text/x-python",
   "name": "python",
   "nbconvert_exporter": "python",
   "pygments_lexer": "ipython3",
   "version": "3.7.3"
  }
 },
 "nbformat": 4,
 "nbformat_minor": 2
}
